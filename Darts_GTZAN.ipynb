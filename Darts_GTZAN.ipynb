{
  "nbformat": 4,
  "nbformat_minor": 0,
  "metadata": {
    "colab": {
      "provenance": []
    },
    "kernelspec": {
      "name": "python3",
      "display_name": "Python 3"
    },
    "language_info": {
      "name": "python"
    },
    "accelerator": "GPU",
    "gpuClass": "standard"
  },
  "cells": [
    {
      "cell_type": "markdown",
      "source": [
        "First unzip the dataset file"
      ],
      "metadata": {
        "id": "C4Tx1M9b3_PC"
      }
    },
    {
      "cell_type": "code",
      "source": [
        "!unzip \"/content/drive/MyDrive/Dissertation Working/DARTS Model/PDarts/pdarts/spec.zip\""
      ],
      "metadata": {
        "id": "iX3Rc9tLUeNy"
      },
      "execution_count": null,
      "outputs": []
    },
    {
      "cell_type": "markdown",
      "source": [
        "Code for searching for cells"
      ],
      "metadata": {
        "id": "nBjrOXD94D7j"
      }
    },
    {
      "cell_type": "code",
      "source": [
        "! python \"/content/drive/MyDrive/Dissertation Working/DARTS Model/PDarts/pdarts/train_search_GTZAN.py\" \\\n",
        "--add-layers 6 \\\n",
        "--add-layers 12 \\\n",
        "--dropout-rate 0.0 \\\n",
        "--dropout-rate 0.4 \\\n",
        "--dropout-rate 0.7 \\\n",
        "-- batch-size 64"
      ],
      "metadata": {
        "id": "byBJ0DRq4JXr"
      },
      "execution_count": null,
      "outputs": []
    },
    {
      "cell_type": "markdown",
      "source": [
        "To visualise the Cells"
      ],
      "metadata": {
        "id": "afnNx_yt4Q6R"
      }
    },
    {
      "cell_type": "code",
      "source": [
        "! python '/content/drive/MyDrive/Dissertation Working/DARTS Model/PDarts/pdarts/visualize.py' GTZAN"
      ],
      "metadata": {
        "id": "CXBWV4JQmqi4"
      },
      "execution_count": null,
      "outputs": []
    },
    {
      "cell_type": "markdown",
      "source": [
        "To train the model"
      ],
      "metadata": {
        "id": "FVu_3XL04Seu"
      }
    },
    {
      "cell_type": "code",
      "source": [
        "! python '/content/drive/MyDrive/Dissertation Working/DARTS Model/PDarts/pdarts/train_GTZAN.py' \\\n",
        "--save log_path \\\n",
        "--auxiliary \\\n",
        "--note GTZAN"
      ],
      "metadata": {
        "id": "xoY4EpMJYz6h"
      },
      "execution_count": null,
      "outputs": []
    },
    {
      "cell_type": "markdown",
      "source": [
        "To test the model"
      ],
      "metadata": {
        "id": "dWvT_tsC4T9Z"
      }
    },
    {
      "cell_type": "code",
      "source": [
        "!python '/content/drive/MyDrive/Dissertation Working/DARTS Model/PDarts/pdarts/test.py' \\\n",
        "--auxiliary \\\n",
        "--model_path '/content/log_patheval-GTZANDARTS300-20230412-170342/weights.pt'"
      ],
      "metadata": {
        "id": "Q2HCgiuemYyr"
      },
      "execution_count": null,
      "outputs": []
    },
    {
      "cell_type": "markdown",
      "source": [
        "See how many parameters a model has"
      ],
      "metadata": {
        "id": "zSTO06FF4XS9"
      }
    },
    {
      "cell_type": "code",
      "source": [
        "import torch\n",
        "\n",
        "model = torch.load('/content/log_patheval-GTZANNasNet-20230409-162600/weights.pt')\n",
        "num_params = sum(p.numel() for p in model.values())\n",
        "\n",
        "print(\"The loaded model has\", num_params, \"parameters.\")"
      ],
      "metadata": {
        "colab": {
          "base_uri": "https://localhost:8080/"
        },
        "id": "BzFQ4b6ozwlx",
        "outputId": "508a7d22-2621-45d3-de6a-21494983035b"
      },
      "execution_count": null,
      "outputs": [
        {
          "output_type": "stream",
          "name": "stdout",
          "text": [
            "The loaded model has 4332667 parameters.\n"
          ]
        }
      ]
    }
  ]
}
